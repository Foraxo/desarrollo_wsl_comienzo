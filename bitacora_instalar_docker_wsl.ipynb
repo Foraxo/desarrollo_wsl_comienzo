{
 "cells": [
  {
   "cell_type": "markdown",
   "metadata": {},
   "source": [
    "# Setear GitHub\n",
    "\n",
    "https://www.youtube.com/watch?v=44ziZ12rJwU"
   ]
  },
  {
   "cell_type": "markdown",
   "metadata": {},
   "source": [
    "# Instalacion de docker"
   ]
  },
  {
   "cell_type": "markdown",
   "metadata": {},
   "source": [
    "### Paso 1: Asegúrate de que WSL 2 esté habilitado y configurado\n",
    "\n",
    "\n",
    "**Verifica si WSL está instalado y actualizado a la versión 2.**\n",
    "\n",
    "Puedes hacer esto abriendo una PowerShell con permisos de administrador y ejecutando:\n",
    "\n"
   ]
  },
  {
   "cell_type": "code",
   "execution_count": null,
   "metadata": {},
   "outputs": [],
   "source": [
    "# en  cmd o powershell\n",
    "\n",
    "wsl --list --verbose"
   ]
  },
  {
   "cell_type": "markdown",
   "metadata": {},
   "source": [
    "Esto te mostrará las distribuciones de Linux instaladas y qué versión de WSL están utilizando. Si no está en la versión 2, puedes actualizarla con el comando:"
   ]
  },
  {
   "cell_type": "code",
   "execution_count": null,
   "metadata": {},
   "outputs": [],
   "source": [
    "# en  cmd o powershell\n",
    "\n",
    "\n",
    "wsl --set-version <DistroName> 2"
   ]
  },
  {
   "cell_type": "markdown",
   "metadata": {},
   "source": [
    "Reemplaza <DistroName> con el nombre de tu distribución.\n",
    "\n"
   ]
  },
  {
   "cell_type": "markdown",
   "metadata": {},
   "source": [
    "**Si WSL 2 no está instalado**, primero deberás habilitarlo siguiendo los pasos oficiales de Microsoft para la instalación de WSL 2."
   ]
  },
  {
   "cell_type": "markdown",
   "metadata": {},
   "source": [
    "### Paso 2: Instalar Docker Engine en tu distribución de Linux en WSL 2\n",
    "\n",
    "Una vez que tienes WSL 2 listo, el siguiente paso es instalar Docker Engine directamente en tu distribución de Linux. El proceso varía ligeramente dependiendo de la distribución que estés utilizando (Ubuntu, Debian, Fedora, etc.), pero aquí te muestro cómo hacerlo en Ubuntu, que es una de las distribuciones más comunes:"
   ]
  },
  {
   "cell_type": "code",
   "execution_count": 4,
   "metadata": {},
   "outputs": [
    {
     "name": "stdout",
     "output_type": "stream",
     "text": [
      "[sudo] password for elias: "
     ]
    },
    {
     "name": "stdout",
     "output_type": "stream",
     "text": [
      "\n",
      "[sudo] password for elias: \n"
     ]
    }
   ],
   "source": [
    "# Actualiza los paquetes de tu sistema:\n",
    "\n",
    "!sudo apt update\n",
    "!sudo apt upgrade"
   ]
  },
  {
   "cell_type": "code",
   "execution_count": 6,
   "metadata": {},
   "outputs": [
    {
     "name": "stdout",
     "output_type": "stream",
     "text": [
      "[sudo] password for elias: "
     ]
    },
    {
     "name": "stdout",
     "output_type": "stream",
     "text": [
      "\n"
     ]
    }
   ],
   "source": [
    "# Instala los paquetes necesarios para permitir que apt use un repositorio sobre HTTPS:\n",
    "\n",
    "!sudo apt install apt-transport-https ca-certificates curl software-properties-common"
   ]
  },
  {
   "cell_type": "code",
   "execution_count": null,
   "metadata": {},
   "outputs": [],
   "source": [
    "# Agrega la clave GPG oficial de Docker:\n",
    "\n",
    "!curl -fsSL https://download.docker.com/linux/ubuntu/gpg | sudo gpg --dearmor -o /usr/share/keyrings/docker-archive-keyring.gpg"
   ]
  },
  {
   "cell_type": "code",
   "execution_count": null,
   "metadata": {},
   "outputs": [],
   "source": [
    "# Agrega el repositorio de Docker a tus fuentes de APT:\n",
    "\n",
    "!sudo add-apt-repository \"deb [arch=amd64] https://download.docker.com/linux/ubuntu $(lsb_release -cs) stable\""
   ]
  },
  {
   "cell_type": "code",
   "execution_count": null,
   "metadata": {},
   "outputs": [],
   "source": [
    "# Actualiza tus paquetes nuevamente después de agregar el repositorio de Docker:\n",
    "\n",
    "!sudo apt update"
   ]
  },
  {
   "cell_type": "code",
   "execution_count": null,
   "metadata": {},
   "outputs": [],
   "source": [
    "# Instala Docker Engine:\n",
    "\n",
    "!sudo apt install docker-ce docker-ce-cli containerd.io"
   ]
  },
  {
   "cell_type": "markdown",
   "metadata": {},
   "source": [
    "### Paso 3: Administrar el servicio de Docker y permitir la ejecución sin sudo"
   ]
  },
  {
   "cell_type": "code",
   "execution_count": null,
   "metadata": {},
   "outputs": [],
   "source": [
    "# Inicia el servicio de Docker:\n",
    "\n",
    "!sudo service docker start"
   ]
  },
  {
   "cell_type": "code",
   "execution_count": null,
   "metadata": {},
   "outputs": [],
   "source": [
    "# Para evitar tener que usar sudo cada vez que ejecutes un comando de Docker, puedes agregar tu usuario al grupo docker:\n",
    "\n",
    "!sudo usermod -aG docker $USER\n",
    "\n",
    "# Después de esto, tendrás que cerrar sesión y volver a entrar, o puedes ejecutar newgrp docker para activar los cambios en el grupo sin necesidad de reiniciar.\n",
    "\n",
    "!newgrp docker"
   ]
  }
 ],
 "metadata": {
  "kernelspec": {
   "display_name": "Python 3",
   "language": "python",
   "name": "python3"
  },
  "language_info": {
   "codemirror_mode": {
    "name": "ipython",
    "version": 3
   },
   "file_extension": ".py",
   "mimetype": "text/x-python",
   "name": "python",
   "nbconvert_exporter": "python",
   "pygments_lexer": "ipython3",
   "version": "3.10.12"
  }
 },
 "nbformat": 4,
 "nbformat_minor": 2
}
